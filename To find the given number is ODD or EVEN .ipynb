{
 "cells": [
  {
   "cell_type": "markdown",
   "id": "64f41de4-a78c-4018-9d3e-3c53a39312d2",
   "metadata": {},
   "source": [
    "Q-1"
   ]
  },
  {
   "cell_type": "code",
   "execution_count": 1,
   "id": "86873359-f43e-43e3-bcff-bbef0d907eae",
   "metadata": {},
   "outputs": [
    {
     "name": "stdin",
     "output_type": "stream",
     "text": [
      "give number to check even or odd: 13\n"
     ]
    },
    {
     "name": "stdout",
     "output_type": "stream",
     "text": [
      "13 is a odd number\n"
     ]
    }
   ],
   "source": [
    "a=int(input(\"enter a number to check it's even or odd:\"))\n",
    "b=a\n",
    "if (b%1)==0:\n",
    "    print(a,\"It's an odd number\")\n",
    "else:\n",
    "    print(b,\"It's an even number\")\n"
   ]
  }
 ],
 "metadata": {
  "kernelspec": {
   "display_name": "Python 3 (ipykernel)",
   "language": "python",
   "name": "python3"
  },
  "language_info": {
   "codemirror_mode": {
    "name": "ipython",
    "version": 3
   },
   "file_extension": ".py",
   "mimetype": "text/x-python",
   "name": "python",
   "nbconvert_exporter": "python",
   "pygments_lexer": "ipython3",
   "version": "3.12.4"
  }
 },
 "nbformat": 4,
 "nbformat_minor": 5
}
